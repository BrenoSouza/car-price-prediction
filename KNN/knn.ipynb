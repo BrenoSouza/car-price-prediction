{
 "cells": [
  {
   "cell_type": "code",
   "execution_count": 1,
   "metadata": {},
   "outputs": [
    {
     "name": "stderr",
     "output_type": "stream",
     "text": [
      "/home/klynger/anaconda3/lib/python3.7/site-packages/sklearn/cross_validation.py:41: DeprecationWarning: This module was deprecated in version 0.18 in favor of the model_selection module into which all the refactored classes and functions are moved. Also note that the interface of the new CV iterators are different from that of this module. This module will be removed in 0.20.\n",
      "  \"This module will be removed in 0.20.\", DeprecationWarning)\n"
     ]
    }
   ],
   "source": [
    "from sklearn.neighbors import KNeighborsClassifier\n",
    "from sklearn import cross_validation\n",
    "import pandas as pd\n",
    "import numpy as np\n",
    "from decimal import Decimal"
   ]
  },
  {
   "cell_type": "code",
   "execution_count": 6,
   "metadata": {},
   "outputs": [],
   "source": [
    "def transformCategoricalColumns(df, variables):\n",
    "    for v in variables:\n",
    "        df[v] = pd.factorize(df[v])[0]\n",
    "    return df\n",
    "\n",
    "def calculateKNNPrediction(X_train, y_train, X_test):\n",
    "    model = KNeighborsClassifier()\n",
    "    model.fit(X_train, y_train)\n",
    "    return model.predict(X_test)\n",
    "\n",
    "def calculateKNNRMSE(X_train, y_train, X_test, y_test):\n",
    "    prediction = calculateKNNPrediction(X_train, y_train, X_test)\n",
    "    sum = 0\n",
    "    for i in range(len(prediction)):\n",
    "        sum += (prediction[i] - y_test[i]) ** 2\n",
    "    return (sum/len(prediction)) ** 0.5\n",
    "\n",
    "def calculateSD(rmse, mean):\n",
    "    sum = 0\n",
    "    for error in rmse:\n",
    "        sum += (error - mean) ** 2\n",
    "    return (sum / 10) ** 0.5\n",
    "\n",
    "def getData(index):\n",
    "    test_df = pd.read_csv('../data/initial_random/original_data/test' + str(index) + '.csv')\n",
    "    train_df = pd.read_csv('../data/initial_random/original_data/train' + str(index) + '.csv')\n",
    "    \n",
    "    return (test_df, train_df)\n",
    "\n",
    "def get_x_and_y(df):\n",
    "    X = np.array(df.drop(['Price'], axis=1))\n",
    "    y = np.array(df['Price'])\n",
    "    return (X, y)"
   ]
  },
  {
   "cell_type": "code",
   "execution_count": 7,
   "metadata": {},
   "outputs": [],
   "source": [
    "result_rmse = []\n",
    "for i in range(10):\n",
    "    test_df, train_df = getData(i)\n",
    "    X_test, y_test = get_x_and_y(test_df)\n",
    "    X_train, y_train = get_x_and_y(train_df)\n",
    "    result_rmse.append(calculateKNNRMSE(X_train, y_train, X_test, y_test))"
   ]
  },
  {
   "cell_type": "code",
   "execution_count": null,
   "metadata": {},
   "outputs": [],
   "source": [
    "to_plot = {}\n",
    "\n",
    "sum = 0\n",
    "for r in result_rmse:\n",
    "    print(r)\n",
    "    sum += r\n",
    "\n",
    "print('Média')\n",
    "mean = sum / 10\n",
    "to_plot['Média'] = mean\n",
    "to_plot['Desvio Padrão'] = calculateSD(result_rmse, mean)"
   ]
  },
  {
   "cell_type": "code",
   "execution_count": null,
   "metadata": {},
   "outputs": [],
   "source": [
    "to_plot_df = pd_DataFrame.from_dict(to_plto, orient='index')\n",
    "to_plot_df.columns = ['measure']\n",
    "plotting = to_plot_df.plot(kind='bar', legend=None, title='Resultados')\n",
    "plotting.set_xlabel('Medida')\n",
    "plotting.set_ylabel('Valor')\n",
    "\n",
    "bar_mean = plotting.patches[0]\n",
    "bar_sd = plotting.patches[1]\n",
    "plotting.annotate('{:.2f}'.format(Decimal(str(bar_mean.get_height()))), (bar_mean.get_x() + 0.1, bar_mean.get_height()))\n",
    "plotting.annotate('{:.2f}'.format(Decimal(str(bar_sd.get_height()))), (bar_sd.get_x() + 0.1, bar_sd.get_height()))"
   ]
  }
 ],
 "metadata": {
  "kernelspec": {
   "display_name": "Python 3",
   "language": "python",
   "name": "python3"
  },
  "language_info": {
   "codemirror_mode": {
    "name": "ipython",
    "version": 3
   },
   "file_extension": ".py",
   "mimetype": "text/x-python",
   "name": "python",
   "nbconvert_exporter": "python",
   "pygments_lexer": "ipython3",
   "version": "3.7.0"
  }
 },
 "nbformat": 4,
 "nbformat_minor": 2
}
